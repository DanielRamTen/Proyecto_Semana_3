{
 "cells": [
  {
   "cell_type": "code",
   "execution_count": 1,
   "id": "01741c1c",
   "metadata": {},
   "outputs": [],
   "source": [
    "import requests\n",
    "import http.client\n",
    "import time\n",
    "import pandas as pd"
   ]
  },
  {
   "cell_type": "code",
   "execution_count": 3,
   "id": "0eed0d7e",
   "metadata": {},
   "outputs": [
    {
     "data": {
      "text/plain": [
       "429"
      ]
     },
     "execution_count": 3,
     "metadata": {},
     "output_type": "execute_result"
    }
   ],
   "source": [
    "\n",
    "url = \"https://50k-radio-stations.p.rapidapi.com/get/countries\"\n",
    "\n",
    "#Se escogió USA porque tiene mas canales de radio.\n",
    "querystring = {\"keyword\":\"United States\"} \n",
    "headers = {\n",
    "    \"X-RapidAPI-Host\": \"50k-radio-stations.p.rapidapi.com\",\n",
    "    \"X-RapidAPI-Key\": \"bfb0a8d97cmshecfc0f9ad804a6ap1059c9jsn0a0af46d5767\"}\n",
    "\n",
    "response = requests.get(url, headers=headers, params=querystring)\n",
    "response.status_code"
   ]
  },
  {
   "cell_type": "code",
   "execution_count": null,
   "id": "72675d7b",
   "metadata": {},
   "outputs": [],
   "source": [
    "\n",
    "url = \"https://50k-radio-stations.p.rapidapi.com/get/channels\"\n",
    "headers = {\n",
    "    \"X-RapidAPI-Host\": \"50k-radio-stations.p.rapidapi.com\",\n",
    "    \"X-RapidAPI-Key\": \"bfb0a8d97cmshecfc0f9ad804a6ap1059c9jsn0a0af46d5767\" }\n",
    "\n",
    "lista_estaciones, lista_generos, lista_bandas= [], [], []   \n",
    "estaciones, generos, bandas = [], [], []\n",
    "\n",
    "for i in range(1,68): #En cada peticion me dan 15, entonces 1000/15= 66.66 ~  67\n",
    "    querystring = {\"keyword\":\"a\",\"country_id\":\"1\",\"page\":i}\n",
    "    response = requests.get(url, headers=headers, params=querystring)\n",
    "    #time.sleep(10)\n",
    "    #print(response.status_code)\n",
    "    for j in range(0,15):    \n",
    "        res= response.json()\n",
    "        names = res['data'][j]['name']\n",
    "        genres = res['data'][j]['genres']\n",
    "        banda = res['data'][j]['band'] \n",
    "        estaciones.append(names)\n",
    "        generos.append(genres)\n",
    "        bandas.append(banda)\n",
    "        time.sleep(70)\n",
    "\n",
    "            \n",
    "    lista_estaciones.append(estaciones)\n",
    "    lista_generos.append(generos)\n",
    "    lista_bandas.append(bandas)"
   ]
  },
  {
   "cell_type": "code",
   "execution_count": null,
   "id": "7e2287ee",
   "metadata": {},
   "outputs": [],
   "source": [
    "nombre = [nombre for listas in lista_estaciones for nombre in listas]\n",
    "genero = [genero for listas in lista_generos for genero in listas]\n",
    "banda = [banda for listas in lista_bandas for banda in listas]\n",
    "\n",
    "newcol= ['Estacion de Radio', 'Generos que trasmite', 'Tipo de Banda']\n",
    "df = pd.DataFrame(zip(nombre, genero,banda))\n",
    "df.columns= newcol\n",
    "\n",
    "df"
   ]
  }
 ],
 "metadata": {
  "kernelspec": {
   "display_name": "Python 3 (ipykernel)",
   "language": "python",
   "name": "python3"
  },
  "language_info": {
   "codemirror_mode": {
    "name": "ipython",
    "version": 3
   },
   "file_extension": ".py",
   "mimetype": "text/x-python",
   "name": "python",
   "nbconvert_exporter": "python",
   "pygments_lexer": "ipython3",
   "version": "3.10.3"
  }
 },
 "nbformat": 4,
 "nbformat_minor": 5
}
