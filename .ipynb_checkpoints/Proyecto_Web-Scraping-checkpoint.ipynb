{
 "cells": [
  {
   "cell_type": "code",
   "execution_count": 30,
   "id": "b2c992ae",
   "metadata": {},
   "outputs": [],
   "source": [
    "#import sys\n",
    "import re\n",
    "import requests\n",
    "import pandas as pd\n",
    "from bs4 import BeautifulSoup"
   ]
  },
  {
   "cell_type": "markdown",
   "id": "581575e9",
   "metadata": {},
   "source": [
    "# Código del proyecto"
   ]
  },
  {
   "cell_type": "code",
   "execution_count": 28,
   "id": "dbd26e54",
   "metadata": {},
   "outputs": [],
   "source": [
    "\n",
    "def entrega (titulos, precios, disponibilidades, libro):\n",
    "    '''\n",
    "    El codigo unifica las tres listas y las convierte en un DataFrame, el resultado lo exporta en un csv.\n",
    "    '''\n",
    "    newcol= ['Titulos', 'Precios', 'Disponibilidad']\n",
    "    resultado = pd.DataFrame(zip(titulos, precios, disponibilidades))\n",
    "    resultado.columns = newcol\n",
    "    return resultado.to_csv('Informe de tu busqueda de libros sobre  {titulo}'.format (titulo= libro))\n",
    "\n",
    "\n",
    "def busqueda(soup, libro):\n",
    "    '''\n",
    "    Toma el total de resultados ofrecidos por la pagina y lo divide entre las visualizaciones predefinidas de la\n",
    "    pagina que son 30, con eso saca el total de paginas a las cuales va iterar y sobre cada iteracion extrae los\n",
    "    titulos, el precio y disponibilidad. \n",
    "    \n",
    "    Una vez que se extrae esa informacion se guarda todo en otra lista para poder pasar a la siguiente pagina.\n",
    "    De la lista que tiene listas, se extrae su contenido en una sola lista y devuelve esas tres listas con \n",
    "    sus elementos.\n",
    "    '''\n",
    "    #Obtencion de informacion\n",
    "    pre_result= soup.select('h3')\n",
    "    resultado= int(''.join(re.findall(r'\\d', pre_result[0].text)))\n",
    "    paginas_a_buscar= round(resultado/30)\n",
    "    lista_titulos, lista_precios, lista_disponibilidad = [],[], []\n",
    "\n",
    "    for page in range(1,paginas_a_buscar+2):\n",
    "        url_busqueda_2= 'https://pendulo.com/busqueda/listaLibros.php?pagSel={pagina}&cuantos=30&orden=prioridad%2C+fecha_edicion+desc&titulo={titulo}'.format(pagina= page, titulo=libro)\n",
    "        sopa = BeautifulSoup(requests.get(url_busqueda_2).content, 'lxml')\n",
    "        titulo = [titulo.text for titulo in sopa.select('dd.title a[href]')]\n",
    "        precio = [''.join(re.findall(r'[^\\s]', precio.text)) for precio in sopa.select('div p.precio')]\n",
    "        disponibilidad = [disp.text for disp in sopa.select('dd.disponibilidad')]\n",
    "        lista_titulos.append(titulo)\n",
    "        lista_precios.append(precio)\n",
    "        lista_disponibilidad.append(disponibilidad)\n",
    "\n",
    "    titulos = [libro for lista in lista_titulos for libro in lista]\n",
    "    precios = [precio for lista in lista_precios for precio in lista]\n",
    "    disponibilidades = [dispo for lista in lista_disponibilidad for dispo in lista]\n",
    "\n",
    "    return entrega(titulos, precios, disponibilidades, libro)\n",
    "\n",
    "\n",
    "def inicio(): \n",
    "    '''\n",
    "    Ofrece al usuario el titulo o tema a buscar y comienza a ejecutar la funcion.\n",
    "    '''\n",
    "    libro= input('libro o tema a buscar: ')\n",
    "    url_busqueda= 'https://pendulo.com/busqueda/listaLibros.php?pagSel=1&cuantos=30&orden=prioridad%2C+fecha_edicion+desc&titulo={titulo}'.format(titulo=libro)\n",
    "    soup = BeautifulSoup(requests.get(url_busqueda).content, 'lxml')\n",
    "    return busqueda(soup, libro)\n",
    "    "
   ]
  },
  {
   "cell_type": "code",
   "execution_count": 29,
   "id": "86576991",
   "metadata": {},
   "outputs": [
    {
     "name": "stdout",
     "output_type": "stream",
     "text": [
      "libro o tema a buscar: musica\n"
     ]
    }
   ],
   "source": [
    "inicio()"
   ]
  },
  {
   "cell_type": "markdown",
   "id": "94d3f382",
   "metadata": {},
   "source": [
    "## Apéndices"
   ]
  },
  {
   "cell_type": "code",
   "execution_count": null,
   "id": "a05dc451",
   "metadata": {},
   "outputs": [],
   "source": [
    "#pagina pricnipal\n",
    "https://pendulo.com/\n",
    "#si busco un libro  \n",
    "https://pendulo.com/busqueda/listaLibros.php?tipoBus=full&palabrasBusqueda=tolstoi\n",
    "#si cambiamos de pagina sobre la misma busqueda. pagina 2\n",
    "https://pendulo.com/busqueda/listaLibros.php?pagSel=2&cuantos=30&orden=prioridad%2C+fecha_edicion+desc&titulo=tolstoi\n",
    "#pagina 3\n",
    "https://pendulo.com/busqueda/listaLibros.php?pagSel=3&cuantos=30&orden=prioridad%2C+fecha_edicion+desc&titulo=tolstoi\n",
    "#pagina 1 no es igual a la pagina cuando hicimos la busqueda\n",
    "https://pendulo.com/busqueda/listaLibros.php?pagSel=1&cuantos=30&orden=prioridad%2C+fecha_edicion+desc&titulo=tolstoi\n",
    "#pagina 100 la conexion fue correcta (200)\n",
    "https://pendulo.com/busqueda/listaLibros.php?pagSel=100&cuantos=30&orden=prioridad%2C+fecha_edicion+desc&titulo=tolstoi"
   ]
  },
  {
   "cell_type": "raw",
   "id": "7ffe7878",
   "metadata": {},
   "source": [
    "# Consideraciones\n",
    "\n",
    "1. El codigo entrega el total de libros que encuentra estando o no disponible pudiendo entregar menos de 100 dependiendo el libro que se le pida.\n",
    "\n",
    "2. Por curiosidad, llegando a la pagina 100 se establece correctamente la conexión a pesar de que no haya contenido suficiente para llenar las 100 páginas.Pero, al hacer la extraccion de los libros en la pagina 100 sin haber disponibles en la página, la lista sí llegan a almacenar titulos aleatorios. Por lo tanto, para poder delimitar la búsqueda, se consideró tomar la cantidad de resultados y dividirlos entre la cantidad de visualizaciones permitidas. Ejemplo: \n",
    "\n",
    "Busqueda: salud\n",
    "                      116 resutados entre 30 libros por pagina = 3.86 paginas ~ 4 paginas.\n",
    "\n",
    "La busqueda se delimitara a 4 páginas.\n",
    "\n",
    "3. No se incluyen autores."
   ]
  },
  {
   "cell_type": "markdown",
   "id": "41a9b50b",
   "metadata": {},
   "source": [
    "# Evolucion del código"
   ]
  },
  {
   "cell_type": "code",
   "execution_count": 30,
   "id": "74163cb8",
   "metadata": {},
   "outputs": [
    {
     "name": "stdout",
     "output_type": "stream",
     "text": [
      "libro o tema a buscar: salud\n"
     ]
    }
   ],
   "source": [
    "#1 Busqueda del libro o titulo.\n",
    "libro= input('libro o tema a buscar: ')\n",
    "url_busqueda= 'https://pendulo.com/busqueda/listaLibros.php?pagSel=1&cuantos=30&orden=prioridad%2C+fecha_edicion+desc&titulo={titulo}'.format(titulo=libro)\n",
    "soup = BeautifulSoup(requests.get(url_busqueda).content, 'lxml')\n"
   ]
  },
  {
   "cell_type": "code",
   "execution_count": 149,
   "id": "dc7c8f77",
   "metadata": {},
   "outputs": [],
   "source": [
    "#Obtencion de informacion\n",
    "pre_result= soup.select('h3')\n",
    "resultado= int(''.join(re.findall(r'\\d', pre_result[0].text))) # total de resultados arrojados por la página\n",
    "paginas_a_buscar= round(resultado/30)  # total de iteraciones por hacer\n",
    "lista_titulos, lista_precios, lista_disponibilidad = [],[], []\n",
    "\n",
    "\n",
    "for page in range(1,paginas_a_buscar+2):\n",
    "    url_busqueda_2= 'https://pendulo.com/busqueda/listaLibros.php?pagSel={pagina}&cuantos=30&orden=prioridad%2C+fecha_edicion+desc&titulo={titulo}'.format(pagina= page, titulo=libro)\n",
    "    sopa = BeautifulSoup(requests.get(url_busqueda_2).content, 'lxml')\n",
    "    titulo = [titulo.text for titulo in sopa.select('dd.title a[href]')]\n",
    "    precio = [''.join(re.findall(r'[^\\s]', precio.text)) for precio in sopa.select('div p.precio')]\n",
    "    disponibilidad = [disp.text for disp in sopa.select('dd.disponibilidad')]\n",
    "    lista_titulos.append(titulo) #para que en la siguiente iteracion no se eliminen los valores pasados, las listas se incluyen  otras listas\n",
    "    lista_precios.append(precio)\n",
    "    lista_disponibilidad.append(disponibilidad)\n",
    "\n",
    "titulos= [libro for lista in lista_titulos for libro in lista] # los valores de las listas de listas se incluyen en esta lista.\n",
    "precios= [precio for lista in lista_precios for precio in lista]\n",
    "disponibilidades= [dispo for lista in lista_disponibilidad for dispo in lista]"
   ]
  },
  {
   "cell_type": "code",
   "execution_count": 151,
   "id": "5ccc0578",
   "metadata": {},
   "outputs": [],
   "source": [
    "#Generacion del Dataframe y Entrega del documento\n",
    "newcol= ['Titulos', 'Precios', 'Disponibilidad']\n",
    "resultado = pd.DataFrame(zip(titulos, precios, disponibilidades))\n",
    "resultado.columns = newcol\n",
    "resultado.to_csv('Informe de tu busqueda de libros sobre  {titulo}'.format (titulo= libro))"
   ]
  }
 ],
 "metadata": {
  "kernelspec": {
   "display_name": "Python 3 (ipykernel)",
   "language": "python",
   "name": "python3"
  },
  "language_info": {
   "codemirror_mode": {
    "name": "ipython",
    "version": 3
   },
   "file_extension": ".py",
   "mimetype": "text/x-python",
   "name": "python",
   "nbconvert_exporter": "python",
   "pygments_lexer": "ipython3",
   "version": "3.10.3"
  }
 },
 "nbformat": 4,
 "nbformat_minor": 5
}
