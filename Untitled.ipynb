{
 "cells": [
  {
   "cell_type": "code",
   "execution_count": 55,
   "id": "01741c1c",
   "metadata": {},
   "outputs": [],
   "source": [
    "import requests\n"
   ]
  },
  {
   "cell_type": "code",
   "execution_count": null,
   "id": "f5d8e7a4",
   "metadata": {},
   "outputs": [],
   "source": [
    "Abc123!."
   ]
  },
  {
   "cell_type": "code",
   "execution_count": null,
   "id": "1d1f9e16",
   "metadata": {},
   "outputs": [],
   "source": [
    "key= Kt0qqWDuCp150b36wkkZAo9A8Oy4HlI4\n",
    "secret= AXapNWQdVCs91Twu"
   ]
  },
  {
   "cell_type": "code",
   "execution_count": null,
   "id": "f2043f11",
   "metadata": {},
   "outputs": [],
   "source": [
    "url= 'https://api.nytimes.com/svc/search/v2/articlesearch.json?q=election&api-key=yourkey'"
   ]
  },
  {
   "cell_type": "code",
   "execution_count": null,
   "id": "6cb4c64e",
   "metadata": {},
   "outputs": [],
   "source": [
    "url= 'https://api.nytimes.com/svc/search/v2/articlesearch.json '"
   ]
  },
  {
   "cell_type": "code",
   "execution_count": null,
   "id": "d3e53a1f",
   "metadata": {},
   "outputs": [],
   "source": []
  },
  {
   "cell_type": "code",
   "execution_count": null,
   "id": "d47d3027",
   "metadata": {},
   "outputs": [],
   "source": []
  },
  {
   "cell_type": "code",
   "execution_count": null,
   "id": "71cd7bb6",
   "metadata": {},
   "outputs": [],
   "source": []
  },
  {
   "cell_type": "code",
   "execution_count": null,
   "id": "f090eff9",
   "metadata": {},
   "outputs": [],
   "source": []
  },
  {
   "cell_type": "code",
   "execution_count": null,
   "id": "134304a9",
   "metadata": {},
   "outputs": [],
   "source": []
  },
  {
   "cell_type": "code",
   "execution_count": null,
   "id": "1ec3eee4",
   "metadata": {},
   "outputs": [],
   "source": []
  }
 ],
 "metadata": {
  "kernelspec": {
   "display_name": "Python 3 (ipykernel)",
   "language": "python",
   "name": "python3"
  },
  "language_info": {
   "codemirror_mode": {
    "name": "ipython",
    "version": 3
   },
   "file_extension": ".py",
   "mimetype": "text/x-python",
   "name": "python",
   "nbconvert_exporter": "python",
   "pygments_lexer": "ipython3",
   "version": "3.10.3"
  }
 },
 "nbformat": 4,
 "nbformat_minor": 5
}
